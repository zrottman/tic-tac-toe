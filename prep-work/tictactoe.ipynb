{
 "cells": [
  {
   "cell_type": "markdown",
   "id": "d6612bce",
   "metadata": {},
   "source": [
    "# Tic-Tac-Toe: Representing the Board and Detecting Winners\n",
    "\n",
    "\n",
    "I recently coded up a quick'n dirty [command line tic-tac-toe game](https://github.com/zrottman/tic-tac-toe) as part of a coding exercise. It seems like a simple task but actually involved some compelling challenges, in particular conceiving of how to represent the board so that its current state could be displayed on the command line and, more importantly, evaluated after each turn for a winning scenario (or stalemate, as the case may be). It was rewarding enough of a puzzle that I wanted to share some of my thinking, go through the various options I explored, and discuss why I ended up making the decision that I did.\n",
    "\n",
    "\n",
    "## Idea 1: 3 x 3 Matrix with Bitwise Operations to Detect Winners\n",
    "\n",
    "My first thought was to represent the board with a 3 x 3 matrix of characters: 'X' and 'O' for player tokens and a blank ' ' for an unoccupied square. The initialization would look like this:"
   ]
  },
  {
   "cell_type": "code",
   "execution_count": 1,
   "id": "bad41d9f",
   "metadata": {},
   "outputs": [],
   "source": [
    "board = [[' ', ' ', ' '],\n",
    "         [' ', ' ', ' '],\n",
    "         [' ', ' ', ' ']]"
   ]
  },
  {
   "cell_type": "markdown",
   "id": "e7e6a198",
   "metadata": {},
   "source": [
    "What was appealing about this solution was that it made setting and getting super intuitive. If player1 makes their first move in the top right corner (i.e., row 0 and column 2), updating the board would be as simple as:"
   ]
  },
  {
   "cell_type": "code",
   "execution_count": 2,
   "id": "01064ad4",
   "metadata": {},
   "outputs": [],
   "source": [
    "row = 0\n",
    "col = 2\n",
    "board[row][col] = 'X' # -> [[' ', ' ', 'X'],[' ', ' ', ' '],[' ', ' ', ' ']]"
   ]
  },
  {
   "cell_type": "markdown",
   "id": "98775590",
   "metadata": {},
   "source": [
    "This solution also had the advantage of lending itself to straightforward display, since printing the current board state would be a matter of looping through the outer array for each row.\n",
    "\n",
    "In it's simplest form:"
   ]
  },
  {
   "cell_type": "code",
   "execution_count": 3,
   "id": "aa7bc44e",
   "metadata": {
    "scrolled": true
   },
   "outputs": [
    {
     "name": "stdout",
     "output_type": "stream",
     "text": [
      "  X\n",
      "  O\n",
      "OX \n"
     ]
    }
   ],
   "source": [
    "# Super simply display function\n",
    "def display_matrix_simple(board):\n",
    "    for row in board:\n",
    "        print(''.join(row))\n",
    "        \n",
    "# Get a few more moves in there\n",
    "board[2][0] = 'O'\n",
    "board[2][1] = 'X'\n",
    "board[1][2] = 'O'\n",
    "        \n",
    "display_matrix_simple(board)"
   ]
  },
  {
   "cell_type": "markdown",
   "id": "4e4417ab",
   "metadata": {},
   "source": [
    "A prettier printing function could look like this:"
   ]
  },
  {
   "cell_type": "code",
   "execution_count": 4,
   "id": "e0f69ba1",
   "metadata": {},
   "outputs": [
    {
     "name": "stdout",
     "output_type": "stream",
     "text": [
      "   |   |   \n",
      "   |   | X\n",
      "___|___|___\n",
      "   |   |   \n",
      "   |   | O\n",
      "___|___|___\n",
      "   |   |   \n",
      " O | X |  \n",
      "   |   |   \n"
     ]
    }
   ],
   "source": [
    "def display_matrix(board):\n",
    "    out = '   |   |   \\n '\n",
    "    out += '\\n___|___|___\\n   |   |   \\n '.join([' | '.join(row) for row in board])\n",
    "    out += '\\n   |   |   '\n",
    "    return out\n",
    "\n",
    "print(display_matrix(board))"
   ]
  },
  {
   "cell_type": "markdown",
   "id": "a4bf9b80",
   "metadata": {},
   "source": [
    "That's all well and good, but how to evaluate a winning position?\n",
    "\n",
    "This is where bitwise operations come in. There are 8 winning combinations in tic-tac-toe: the three rows, the three columns, and the two diagonals. My thought was that each of these could be represented by a binary value. For instance, a diagonal winner would look like this:\n",
    "\n",
    "```\n",
    "[[1, 0, 0],\n",
    " [0, 1, 0],\n",
    " [0, 0, 1]]\n",
    "```\n",
    "\n",
    "Or, in a flattened form: `[1, 0, 0, 0, 1, 0, 0, 0, 1]`\n",
    "\n",
    "Or, as a binary string: `0b100010001`\n",
    "\n",
    "Or, as an integer: `273`\n",
    "\n",
    "Encoding all 8 winning positions would look like this:"
   ]
  },
  {
   "cell_type": "code",
   "execution_count": 5,
   "id": "def72d74",
   "metadata": {},
   "outputs": [],
   "source": [
    "winners = [\n",
    "    0b111000000,\n",
    "    0b000111000,\n",
    "    0b000000111,\n",
    "    0b100100100,\n",
    "    0b010010010,\n",
    "    0b001001001,\n",
    "    0b100010001,\n",
    "    0b001010100\n",
    "]"
   ]
  },
  {
   "cell_type": "markdown",
   "id": "af68e2ae",
   "metadata": {},
   "source": [
    "That means if we encode a given player's positions such that `1` represents a position occupied by that player and a `0` a position occupied by the other player or unoccupied, we can use bitwise `&` for each of the 8 combinations to evaluate whether the result is indeed a winner.\n",
    "\n",
    "This means a few additional steps: \n",
    "- flattening our 3x3 array into a single list of length 9\n",
    "- encoding this as a binary string for a given player token\n",
    "- returning the integer value of that binary string\n",
    "\n",
    "Here are some helper functions we'll need:"
   ]
  },
  {
   "cell_type": "code",
   "execution_count": 6,
   "id": "6f9ccb36",
   "metadata": {},
   "outputs": [],
   "source": [
    "def flatten(board):\n",
    "    return [item for row in board for item in row]\n",
    "\n",
    "def flat_to_binary(flat_board, playerchar):\n",
    "    binseq = '0b'\n",
    "    for char in flat_board:\n",
    "        if char == playerchar:\n",
    "            binseq += '1'\n",
    "        else:\n",
    "            binseq += '0'\n",
    "    return binseq\n",
    "\n",
    "def binary_to_int(encoded):\n",
    "    return int(encoded, 2)"
   ]
  },
  {
   "cell_type": "markdown",
   "id": "92e749f1",
   "metadata": {},
   "source": [
    "Now let's see them in action:"
   ]
  },
  {
   "cell_type": "code",
   "execution_count": 7,
   "id": "476b11c8",
   "metadata": {},
   "outputs": [
    {
     "name": "stdout",
     "output_type": "stream",
     "text": [
      "Pretty display of board:\n",
      "   |   |   \n",
      " X | O |  \n",
      "___|___|___\n",
      "   |   |   \n",
      " X |   | O\n",
      "___|___|___\n",
      "   |   |   \n",
      " O | X | X\n",
      "   |   |   \n",
      "\n",
      "Flattened board: ['X', 'O', ' ', 'X', ' ', 'O', 'O', 'X', 'X']\n",
      "\n",
      "Binary encoding of board for token 'X': 0b100100011\n",
      "\n",
      "Integer equivalent of binary encoding of board for token 'X': 291\n"
     ]
    }
   ],
   "source": [
    "board = [['X', 'O', ' '],\n",
    "         ['X', ' ', 'O'],\n",
    "         ['O', 'X', 'X']]\n",
    "\n",
    "print(\"Pretty display of board:\")\n",
    "print(display_matrix(board))\n",
    "print()\n",
    "\n",
    "print(\"Flattened board: {}\"\n",
    "      .format(flatten(board)))\n",
    "print()\n",
    "\n",
    "print(\"Binary encoding of board for token 'X': {}\"\n",
    "      .format(flat_to_binary(flatten(board), 'X')))\n",
    "print()\n",
    "\n",
    "print(\"Integer equivalent of binary encoding of board for token 'X': {}\"\n",
    "      .format(binary_to_int(flat_to_binary(flatten(board), 'X'))))"
   ]
  },
  {
   "cell_type": "markdown",
   "id": "7ea83081",
   "metadata": {},
   "source": [
    "Now all we have to do is loop through the 8 winning board combinations and see if our encoded board `&` the current winner `==` the current winner. If so, we've got a winner!\n",
    "\n",
    "In practice:"
   ]
  },
  {
   "cell_type": "code",
   "execution_count": 8,
   "id": "bcc74b40",
   "metadata": {},
   "outputs": [],
   "source": [
    "def is_winner(encoded):\n",
    "    for winner in winners:\n",
    "        if winner & encoded == winner:\n",
    "            return True\n",
    "    return False"
   ]
  },
  {
   "cell_type": "code",
   "execution_count": 9,
   "id": "f1090339",
   "metadata": {},
   "outputs": [
    {
     "name": "stdout",
     "output_type": "stream",
     "text": [
      "   |   |   \n",
      " X | O |  \n",
      "___|___|___\n",
      "   |   |   \n",
      " X |   | X\n",
      "___|___|___\n",
      "   |   |   \n",
      " X | O | O\n",
      "   |   |   \n",
      "Winner for 'O'? False\n",
      "Winner for 'X'? True\n"
     ]
    }
   ],
   "source": [
    "board = [['X', 'O', ' '],\n",
    "         ['X', ' ', 'X'],\n",
    "         ['X', 'O', 'O']] # -> To be encoded as '100101100' for 'X'\n",
    "\n",
    "print(display_matrix(board))\n",
    "\n",
    "print(\"Winner for 'O'? {}\"\n",
    "      .format(is_winner(binary_to_int(flat_to_binary(flatten(board), 'O')))))\n",
    "print(\"Winner for 'X'? {}\"\n",
    "      .format(is_winner(binary_to_int(flat_to_binary(flatten(board), 'X')))))"
   ]
  },
  {
   "cell_type": "markdown",
   "id": "b0f51fe4",
   "metadata": {},
   "source": [
    "There are definitely some extra steps involved here: every time we want to evaluate the current board state for a winner, we would have to flatten it, encode it to binary and then as an integer for the current player, and then compare the encoded board state to each of the 8 winning combination boards. But the flip side is that we get a 3x3 board representation that is intuitive and easy to set/get.\n",
    "\n",
    "Incidentally, the same procedure would be used to compute a stalemate, except for a stalemate we'd want to know whether each player's position plus all the unoccupied squares contains a given winner. If not, then that's a stalemate, baby!"
   ]
  },
  {
   "cell_type": "markdown",
   "id": "c37a97f3",
   "metadata": {},
   "source": [
    "## Solution 2: Same as Above, but 1x9 List Instead of 3x3 Matrix\n",
    "\n",
    "What appealed to me about the above solution was it's intuitiveness: Representing a 3x3 tic-tac-toe game as a 3x3 matrix makes sense. But under the hood we're constantly having to flatten that matrix in order to do anything with it.\n",
    "\n",
    "As such, another option is to simply represent the board and its current state as a list to begin with, thus obviating the need for flattening. On the flipside, this means an extra step when setting/getting board positions, since we'd need to convert row/column input to a list index, but this is easily solved with a function like this:"
   ]
  },
  {
   "cell_type": "code",
   "execution_count": 10,
   "id": "2eadea73",
   "metadata": {},
   "outputs": [
    {
     "name": "stdout",
     "output_type": "stream",
     "text": [
      "Row 1 and column 2 -> index 5\n",
      "Row 2 and column 0 -> index 6\n",
      "Row 0 and column 1 -> index 1\n"
     ]
    }
   ],
   "source": [
    "def get_index(row, col):\n",
    "    return row * 3 + col\n",
    "\n",
    "row, col = 1, 2\n",
    "print(\"Row {} and column {} -> index {}\".format(row, col, get_index(row, col)))\n",
    "\n",
    "row, col = 2, 0\n",
    "print(\"Row {} and column {} -> index {}\".format(row, col, get_index(row, col)))\n",
    "\n",
    "row, col = 0, 1\n",
    "print(\"Row {} and column {} -> index {}\".format(row, col, get_index(row, col)))"
   ]
  },
  {
   "cell_type": "markdown",
   "id": "8261bf51",
   "metadata": {},
   "source": [
    "An update function could thus look like this:"
   ]
  },
  {
   "cell_type": "code",
   "execution_count": 11,
   "id": "7a288ce5",
   "metadata": {},
   "outputs": [],
   "source": [
    "def update_board(row, col, player_token):\n",
    "    board[get_index(row, col)] = player_token"
   ]
  },
  {
   "cell_type": "markdown",
   "id": "6659c173",
   "metadata": {},
   "source": [
    "And a slightly more complicated display function would look like this:"
   ]
  },
  {
   "cell_type": "code",
   "execution_count": 12,
   "id": "056e4262",
   "metadata": {},
   "outputs": [],
   "source": [
    "def display_flat(board):\n",
    "    out = '   |   |   \\n'\n",
    "    row_start = 0 # Pointer to keep track of where each row starts\n",
    "    rows = []\n",
    "\n",
    "    # Separate `board` list into three rows \n",
    "    while row_start < len(board):\n",
    "        rows.append(' ' + ' | '.join(board[row_start:row_start + 3]) + ' \\n')\n",
    "        row_start += 3\n",
    "\n",
    "    # Join rows\n",
    "    out += '___|___|___\\n   |   |   \\n'.join(rows)\n",
    "    out += '   |   |   \\n'\n",
    "    \n",
    "    return out\n"
   ]
  },
  {
   "cell_type": "markdown",
   "id": "fa19d0f3",
   "metadata": {},
   "source": [
    "Now we can do all of the above, but without the need for a `flatten()` function or method."
   ]
  },
  {
   "cell_type": "code",
   "execution_count": 13,
   "id": "1bd11138",
   "metadata": {},
   "outputs": [
    {
     "name": "stdout",
     "output_type": "stream",
     "text": [
      "Board:\n",
      "['X', 'O', ' ', 'X', ' ', 'X', 'X', 'O', 'O']\n",
      "\n",
      "Pretty display of board:\n",
      "   |   |   \n",
      " X | O |   \n",
      "___|___|___\n",
      "   |   |   \n",
      " X |   | X \n",
      "___|___|___\n",
      "   |   |   \n",
      " X | O | O \n",
      "   |   |   \n",
      "\n",
      "\n",
      "Binary encoding of board for token 'X': 0b100101100\n",
      "Integer equivalent of binary encoding of board for token 'X': 300\n",
      "Winner for 'X'? True\n",
      "\n",
      "Binary encoding of board for token 'O': 0b010000011\n",
      "Integer equivalent of binary encoding of board for token 'O': 131\n",
      "Winner for 'O'? False\n"
     ]
    }
   ],
   "source": [
    "board = ['X', 'O', ' ', 'X', ' ', 'X', 'X', 'O', 'O']\n",
    "\n",
    "print(\"Board:\")\n",
    "print(board)\n",
    "print()\n",
    "\n",
    "print(\"Pretty display of board:\")\n",
    "print(display_flat(board))\n",
    "print()\n",
    "\n",
    "print(\"Binary encoding of board for token 'X': {}\"\n",
    "      .format(flat_to_binary(board, 'X')))\n",
    "print(\"Integer equivalent of binary encoding of board for token 'X': {}\"\n",
    "      .format(binary_to_int(flat_to_binary(board, 'X'))))\n",
    "print(\"Winner for 'X'? {}\"\n",
    "      .format(is_winner(binary_to_int(flat_to_binary(board, 'X')))))\n",
    "print()\n",
    "\n",
    "print(\"Binary encoding of board for token 'O': {}\"\n",
    "      .format(flat_to_binary(board, 'O')))\n",
    "print(\"Integer equivalent of binary encoding of board for token 'O': {}\"\n",
    "      .format(binary_to_int(flat_to_binary(board, 'O'))))\n",
    "print(\"Winner for 'O'? {}\"\n",
    "      .format(is_winner(binary_to_int(flat_to_binary(board, 'O')))))\n"
   ]
  },
  {
   "cell_type": "markdown",
   "id": "57ccad58",
   "metadata": {},
   "source": [
    "This solution seems a little more complicated, but I gravitate to it since it represents the board in the format that the board is operated on, rather than in a human-friendly format that then needs to be converted to a flattened version to be operated on.\n",
    "\n",
    "Spoiler alert: this is the solution I picked!"
   ]
  },
  {
   "cell_type": "markdown",
   "id": "4e7ee9f4",
   "metadata": {},
   "source": [
    "# Solution 3: 3x3 Integer Matrix and Matrix Operations to Detect Winners\n",
    "\n",
    "My first two solutions both used bitwise operations to detect winners. This third solution is different since it uses matrix operations to fulfill this function: If `1` represents a position held by player 1, `-1` a position held by player 2, and `0` an unoccupied position, then if the sum of any row, column, or diagonal at any point is `3`, then player 1 has won. Likewise, if at any point a row, column, or diagonal sums to `-3`, player 2 has won.\n",
    "\n",
    "The advantage here is a more intuitive way of detecting winners than hard-coding binary encodings of winning boards.\n",
    "\n",
    "The disadvantage is that we have to constantly translate the computer-friendly board consisting of `1`s, `-1`s, and `0`s (which is simple to perform some matrix operations on) to a human-friendly board consisting of `X`'s and `O`s."
   ]
  },
  {
   "cell_type": "code",
   "execution_count": 14,
   "id": "02b16b35",
   "metadata": {},
   "outputs": [
    {
     "name": "stdout",
     "output_type": "stream",
     "text": [
      "Board:\n",
      "[1, -1, 0]\n",
      "[0, 0, 1]\n",
      "[-1, -1, 1]\n",
      "\n",
      "Converted to human readable:\n",
      "   |   |   \n",
      " X | O |  \n",
      "___|___|___\n",
      "   |   |   \n",
      "   |   | X\n",
      "___|___|___\n",
      "   |   |   \n",
      " O | O | X\n",
      "   |   |   \n"
     ]
    }
   ],
   "source": [
    "board = [[ 1, -1, 0],\n",
    "         [ 0,  0, 1],\n",
    "         [-1, -1, 1]]\n",
    "\n",
    "def convert(board):\n",
    "    char_matrix = []\n",
    "    for row in board:\n",
    "        new_row = []\n",
    "        for val in row:\n",
    "            match val:\n",
    "                case 1:\n",
    "                    new_row.append('X')\n",
    "                case -1:\n",
    "                    new_row.append('O')\n",
    "                case _:\n",
    "                    new_row.append(' ')\n",
    "        char_matrix.append(new_row)\n",
    "    return char_matrix\n",
    "\n",
    "print(\"Board:\")\n",
    "for row in board:\n",
    "    print(row)\n",
    "print()\n",
    "\n",
    "print(\"Converted to human readable:\")\n",
    "print(display_matrix(convert(board)))"
   ]
  },
  {
   "cell_type": "markdown",
   "id": "d045a51c",
   "metadata": {},
   "source": [
    "To detect a winner, we need to be able to sum the rows, columns, and diagonals.\n",
    "\n",
    "Summing the rows is easy:"
   ]
  },
  {
   "cell_type": "code",
   "execution_count": 15,
   "id": "2291408f",
   "metadata": {},
   "outputs": [
    {
     "name": "stdout",
     "output_type": "stream",
     "text": [
      "Board:\n",
      "   |   |   \n",
      " X | O |  \n",
      "___|___|___\n",
      "   |   |   \n",
      "   |   | X\n",
      "___|___|___\n",
      "   |   |   \n",
      " O | O | X\n",
      "   |   |   \n",
      "\n",
      "Sum of row 0: 0 --> No winner\n",
      "Sum of row 1: 1 --> No winner\n",
      "Sum of row 2: -1 --> No winner\n"
     ]
    }
   ],
   "source": [
    "def is_winning_combo(combo_sum):\n",
    "    if combo_sum == 3:\n",
    "        return \"Winner for player 1\"\n",
    "    elif combo_sum == -3:\n",
    "        return \"Winner for player 2\"\n",
    "    else:\n",
    "        return \"No winner\"\n",
    "\n",
    "def sumrows(board):\n",
    "    rowresults = []\n",
    "    for row in board:\n",
    "        result = 0\n",
    "        for col in row:\n",
    "            result += col\n",
    "        rowresults.append(result)\n",
    "    return rowresults\n",
    "\n",
    "rowsums = sumrows(board)\n",
    "\n",
    "print(\"Board:\")\n",
    "print(display_matrix(convert(board)))\n",
    "print()\n",
    "\n",
    "for i, rowsum in enumerate(rowsums):\n",
    "    print(\"Sum of row {}: {} --> {}\".format(i, rowsum, is_winning_combo(rowsum)))"
   ]
  },
  {
   "cell_type": "markdown",
   "id": "d8f49d9f",
   "metadata": {},
   "source": [
    "Summing the main diagonal is also easy, since we're looking only at positions where `row == col`:"
   ]
  },
  {
   "cell_type": "code",
   "execution_count": 16,
   "id": "c47494b0",
   "metadata": {},
   "outputs": [
    {
     "name": "stdout",
     "output_type": "stream",
     "text": [
      "Board:\n",
      "   |   |   \n",
      " X | O |  \n",
      "___|___|___\n",
      "   |   |   \n",
      "   |   | X\n",
      "___|___|___\n",
      "   |   |   \n",
      " O | O | X\n",
      "   |   |   \n",
      "\n",
      "Sum of main diagonal: 2 --> No winner\n"
     ]
    }
   ],
   "source": [
    "def sumdiag(board):\n",
    "    n = len(board)\n",
    "    result = 0\n",
    "    for i in range(n):\n",
    "        result += board[i][i]\n",
    "    return result\n",
    "\n",
    "diagsum = sumdiag(board)\n",
    "\n",
    "print(\"Board:\")\n",
    "print(display_matrix(convert(board)))\n",
    "print()\n",
    "\n",
    "print('Sum of main diagonal: {} --> {}'.format(diagsum, is_winning_combo(diagsum)))"
   ]
  },
  {
   "cell_type": "markdown",
   "id": "3e75f103",
   "metadata": {},
   "source": [
    "Summing the columns and anti-diagonal, though, are a a little more annoying.\n",
    "\n",
    "My solution is to rotate the matrix 90 degrees, and then we can sum the rows as above to compute the column sums and sum the main diagonal, also as above, to compute the anti-diagonal sum.\n",
    "\n",
    "To rototate the board 90 degrees clockwise requires a few intermediary steps:\n",
    "1. Transpose the mirrored board (i.e., mirror the board over the main diagonal)\n",
    "1. Mirror the transposed board from left to right (i.e., reverse each row in the board variable)\n",
    "\n",
    "The result of these two steps is a rotated matrix."
   ]
  },
  {
   "cell_type": "code",
   "execution_count": 17,
   "id": "fe04cc84",
   "metadata": {},
   "outputs": [],
   "source": [
    "def reverse_row(row):\n",
    "    newrow = []\n",
    "    i = len(row) - 1\n",
    "    while i >= 0:\n",
    "        newrow.append(row[i])\n",
    "        i -= 1\n",
    "    return newrow\n",
    "\n",
    "def mirror(board):\n",
    "    newboard = []\n",
    "    for row in board:\n",
    "        newboard.append(reverse_row(row))\n",
    "    return newboard\n",
    "\n",
    "\n",
    "def transpose(board):\n",
    "    newboard = [['','',''],['','',''],['','','']]\n",
    "    for row in range(len(board)):\n",
    "        for col in range(len(board[row])):\n",
    "            newboard[row][col] = board[col][row]\n",
    "    return newboard\n",
    "\n",
    "def rotate90(board):\n",
    "    return mirror(transpose(board))"
   ]
  },
  {
   "cell_type": "code",
   "execution_count": 18,
   "id": "0b6fe670",
   "metadata": {},
   "outputs": [
    {
     "name": "stdout",
     "output_type": "stream",
     "text": [
      "Original Board:\n",
      "   |   |   \n",
      " X | O |  \n",
      "___|___|___\n",
      "   |   |   \n",
      "   |   | X\n",
      "___|___|___\n",
      "   |   |   \n",
      " O | O | X\n",
      "   |   |   \n",
      "\n",
      "Mirrored Board:\n",
      "   |   |   \n",
      "   | O | X\n",
      "___|___|___\n",
      "   |   |   \n",
      " X |   |  \n",
      "___|___|___\n",
      "   |   |   \n",
      " X | O | O\n",
      "   |   |   \n",
      "\n",
      "Transposed Board:\n",
      "   |   |   \n",
      " X |   | O\n",
      "___|___|___\n",
      "   |   |   \n",
      " O |   | O\n",
      "___|___|___\n",
      "   |   |   \n",
      "   | X | X\n",
      "   |   |   \n",
      "\n",
      "90-Deg Rotated (i.e., Mirrored and Transposed) Board:\n",
      "   |   |   \n",
      " O |   | X\n",
      "___|___|___\n",
      "   |   |   \n",
      " O |   | O\n",
      "___|___|___\n",
      "   |   |   \n",
      " X | X |  \n",
      "   |   |   \n",
      "\n"
     ]
    }
   ],
   "source": [
    "print(\"Original Board:\")\n",
    "print(display_matrix(convert(board)))\n",
    "print()\n",
    "\n",
    "print(\"Mirrored Board:\")\n",
    "print(display_matrix(convert(mirror(board))))\n",
    "print()\n",
    "\n",
    "print(\"Transposed Board:\")\n",
    "print(display_matrix(convert(transpose(board))))\n",
    "print()\n",
    "\n",
    "print(\"90-Deg Rotated (i.e., Mirrored and Transposed) Board:\")\n",
    "print(display_matrix(convert(rotate90(board))))\n",
    "print()"
   ]
  },
  {
   "cell_type": "markdown",
   "id": "e69f19b1",
   "metadata": {},
   "source": [
    "Now that we have a rotated board, we can simply sum the rows and the main diagonal as before:"
   ]
  },
  {
   "cell_type": "code",
   "execution_count": 19,
   "id": "8ce81865",
   "metadata": {},
   "outputs": [
    {
     "name": "stdout",
     "output_type": "stream",
     "text": [
      "Original Board:\n",
      "   |   |   \n",
      " X | O |  \n",
      "___|___|___\n",
      "   |   |   \n",
      "   |   | X\n",
      "___|___|___\n",
      "   |   |   \n",
      " O | O | X\n",
      "   |   |   \n",
      "\n",
      "Sum of col 0: 0 --> No winner\n",
      "Sum of col 1: -2 --> No winner\n",
      "Sum of col 2: 2 --> No winner\n",
      "Sum of anti-diagonal: -1 --> No winner\n"
     ]
    }
   ],
   "source": [
    "print(\"Original Board:\")\n",
    "print(display_matrix(convert(board)))\n",
    "print()\n",
    "\n",
    "# Rotate board\n",
    "rotated = rotate90(board)\n",
    "\n",
    "# Compute columns sums (i.e., rows of rotated board)\n",
    "rowsums = sumrows(rotated)\n",
    "\n",
    "for i, rowsum in enumerate(rowsums):\n",
    "    print(\"Sum of col {}: {} --> {}\".format(i, rowsum, is_winning_combo(rowsum)))\n",
    "    \n",
    "# Compute anti-diagonal sum (i.e., main diagonal of rotated board)\n",
    "diagsum = sumdiag(rotated)\n",
    "\n",
    "print('Sum of anti-diagonal: {} --> {}'.format(diagsum, is_winning_combo(diagsum)))"
   ]
  },
  {
   "cell_type": "markdown",
   "id": "9e8afccd",
   "metadata": {},
   "source": [
    "This solution definitely involves a little extra work when it comes to computing winners, but it has the effect of being generalizable to an NxN tic-tac-toe game, whereas the bitwise solutions above require solutions that are hard-coded in. This solution is also more computationally intensive since we have to constantly be transforming the board in order to calculate the various row and column sums."
   ]
  },
  {
   "cell_type": "markdown",
   "id": "1940b884",
   "metadata": {},
   "source": [
    "# Solution 4: 3x3 Integer Matrix, but with NumPy\n",
    "Above I had to code several functions to transform the board and sum the rows, columns, and diagonals. But we can also just leverage NumPy to accomplish the same thing:"
   ]
  },
  {
   "cell_type": "code",
   "execution_count": 20,
   "id": "d1248489",
   "metadata": {},
   "outputs": [],
   "source": [
    "import numpy as np"
   ]
  },
  {
   "cell_type": "code",
   "execution_count": 21,
   "id": "4dba4109",
   "metadata": {},
   "outputs": [
    {
     "name": "stdout",
     "output_type": "stream",
     "text": [
      "   |   |   \n",
      " X | O |  \n",
      "___|___|___\n",
      "   |   |   \n",
      "   | X | X\n",
      "___|___|___\n",
      "   |   |   \n",
      " O | O | X\n",
      "   |   |   \n"
     ]
    }
   ],
   "source": [
    "board = np.array([[1, -1, 0], [0, 1, 1], [-1, -1, 1]])\n",
    "\n",
    "print(display_matrix(convert(board)))"
   ]
  },
  {
   "cell_type": "code",
   "execution_count": 22,
   "id": "e9d46c85",
   "metadata": {},
   "outputs": [
    {
     "data": {
      "text/plain": [
       "array([[ 1, -1,  0],\n",
       "       [ 0,  1,  1],\n",
       "       [-1, -1,  1]])"
      ]
     },
     "execution_count": 22,
     "metadata": {},
     "output_type": "execute_result"
    }
   ],
   "source": [
    "board"
   ]
  },
  {
   "cell_type": "code",
   "execution_count": 23,
   "id": "223d3798",
   "metadata": {},
   "outputs": [
    {
     "name": "stdout",
     "output_type": "stream",
     "text": [
      "Sum of row 0: 0 --> No winner\n",
      "Sum of row 1: 2 --> No winner\n",
      "Sum of row 2: -1 --> No winner\n"
     ]
    }
   ],
   "source": [
    "x = board.sum(axis=1)\n",
    "for i, rowsum in enumerate(x):\n",
    "    print(\"Sum of row {}: {} --> {}\".format(i, rowsum, is_winning_combo(rowsum)))\n"
   ]
  },
  {
   "cell_type": "code",
   "execution_count": 24,
   "id": "e3a826ee",
   "metadata": {},
   "outputs": [
    {
     "name": "stdout",
     "output_type": "stream",
     "text": [
      "   |   |   \n",
      " X | O |  \n",
      "___|___|___\n",
      "   |   |   \n",
      "   | X | X\n",
      "___|___|___\n",
      "   |   |   \n",
      " O | O | X\n",
      "   |   |   \n",
      "\n",
      "Sum of row 0: 0 --> No winner\n",
      "Sum of row 1: 2 --> No winner\n",
      "Sum of row 2: -1 --> No winner\n",
      "Sum of col 0: 0 --> No winner\n",
      "Sum of col 1: -1 --> No winner\n",
      "Sum of col 2: 2 --> No winner\n",
      "Main dagonal sum: 3 --> Winner for player 1\n",
      "Anti-dagonal sum: 0 --> No winner\n"
     ]
    }
   ],
   "source": [
    "print(display_matrix(convert(board)))\n",
    "print()\n",
    "\n",
    "# Sum rows\n",
    "rowsums = board.sum(axis=1)\n",
    "for i, rowsum in enumerate(rowsums):\n",
    "    print(\"Sum of row {}: {} --> {}\".format(i, rowsum, is_winning_combo(rowsum)))\n",
    "\n",
    "# Sum cols\n",
    "colssums = board.sum(axis=0)\n",
    "for i, colssum in enumerate(colssums):\n",
    "    print(\"Sum of col {}: {} --> {}\".format(i, colssum, is_winning_combo(colssum)))\n",
    "\n",
    "# Sum main diagonal\n",
    "diagsum = board.diagonal().sum()\n",
    "print(\"Main dagonal sum: {} --> {}\".format(diagsum, is_winning_combo(diagsum)))\n",
    "\n",
    "# Sum anti-diagonal\n",
    "antidiagsum = np.fliplr(board).diagonal().sum()\n",
    "print(\"Anti-dagonal sum: {} --> {}\".format(antidiagsum, is_winning_combo(antidiagsum)))"
   ]
  },
  {
   "cell_type": "markdown",
   "id": "b8e83652",
   "metadata": {},
   "source": [
    "# Conclusions\n",
    "\n",
    "Of these solutions, I opted to go with solution 2:\n",
    "- Use a flat list to represent the board.\n",
    "- Detecting winners by encoding flat list to binary and comparing with known solutions\n",
    "\n",
    "Disadvantages:\n",
    "- 8 winning positions are hard-coded (although this could easily be automated to accommodate an NxN size board)\n",
    "- Setting/getting involve an extra step in order to convert from row/column accessors to a single index accessor\n",
    "- Non-intuitive representation of board\n",
    "\n",
    "Advantages:\n",
    "- Computationally simple winner detection\n",
    "- Human-friendly board consisting of player token characters rather than integers\n",
    "- Can accommodate games consisting of K players"
   ]
  }
 ],
 "metadata": {
  "kernelspec": {
   "display_name": "Python 3 (ipykernel)",
   "language": "python",
   "name": "python3"
  },
  "language_info": {
   "codemirror_mode": {
    "name": "ipython",
    "version": 3
   },
   "file_extension": ".py",
   "mimetype": "text/x-python",
   "name": "python",
   "nbconvert_exporter": "python",
   "pygments_lexer": "ipython3",
   "version": "3.10.6"
  }
 },
 "nbformat": 4,
 "nbformat_minor": 5
}

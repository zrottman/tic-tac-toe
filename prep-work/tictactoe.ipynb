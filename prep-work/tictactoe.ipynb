{
 "cells": [
  {
   "cell_type": "markdown",
   "id": "d6612bce",
   "metadata": {},
   "source": [
    "# Handling board and detecting winners\n",
    "\n",
    "## Idea 1: Bitwise Operations\n",
    "\n",
    "- `Game` or `Board` object stores current state as N x N matrix, which allows easy setting/getting (board[x,y])\n",
    "- After each move, a method converts this to a binary string, where 1's represent positions held by current player.\n",
    "\n",
    "```python\n",
    "    board = [['X', 'O', ' '],\n",
    "             ['O', 'X', 'O'],\n",
    "             [' ', 'X', ' ']] # -> To be encoded as `100010010`\n",
    "```     \n",
    "\n",
    "- The encoded string is compared to each of the 8 winning string operations using bitwise operation: `cur_position & 111000000 == 111000000`\n",
    "- If there's a match, we have a winner"
   ]
  },
  {
   "cell_type": "code",
   "execution_count": 1,
   "id": "def72d74",
   "metadata": {},
   "outputs": [],
   "source": [
    "winners = [\n",
    "    0b111000000,\n",
    "    0b000111000,\n",
    "    0b000000111,\n",
    "    0b100100100,\n",
    "    0b010010010,\n",
    "    0b001001001,\n",
    "    0b100010001,\n",
    "    0b001010100\n",
    "]"
   ]
  },
  {
   "cell_type": "code",
   "execution_count": 2,
   "id": "bcc74b40",
   "metadata": {},
   "outputs": [
    {
     "name": "stdout",
     "output_type": "stream",
     "text": [
      "no winner\n"
     ]
    }
   ],
   "source": [
    "cur_position = 0b010000011\n",
    "\n",
    "def check(cur_position):\n",
    "    for winner in winners:\n",
    "        if winner & cur_position == winner:\n",
    "            print('Winner')\n",
    "            return\n",
    "    print('no winner')\n",
    "    return\n",
    "\n",
    "check(cur_position)"
   ]
  },
  {
   "cell_type": "code",
   "execution_count": 3,
   "id": "c5b6a1eb",
   "metadata": {},
   "outputs": [
    {
     "data": {
      "text/plain": [
       "[['X', 'O', '_'], ['X', '_', 'O'], ['O', 'X', 'X']]"
      ]
     },
     "execution_count": 3,
     "metadata": {},
     "output_type": "execute_result"
    }
   ],
   "source": [
    "board = [['X', 'O', '_'],\n",
    "         ['X', '_', 'O'],\n",
    "         ['O', 'X', 'X']]\n",
    "\n",
    "board"
   ]
  },
  {
   "cell_type": "code",
   "execution_count": 4,
   "id": "ddb3f900",
   "metadata": {},
   "outputs": [],
   "source": [
    "def flatten(board):\n",
    "    return [item for row in board for item in row]\n",
    "\n",
    "def encode(flat_board, playerchar):\n",
    "    binseq = '0b'\n",
    "    for char in flat_board:\n",
    "        if char == playerchar:\n",
    "            binseq += '1'\n",
    "        else:\n",
    "            binseq += '0'\n",
    "    return int(binseq, 2)"
   ]
  },
  {
   "cell_type": "code",
   "execution_count": 5,
   "id": "b1fcc1f2",
   "metadata": {},
   "outputs": [
    {
     "name": "stdout",
     "output_type": "stream",
     "text": [
      "Winner\n"
     ]
    }
   ],
   "source": [
    "board = [['X', 'O', '_',],\n",
    "         ['X', 'X', 'O'],\n",
    "         ['O', 'O', 'X']]\n",
    "\n",
    "check(encode(flatten(board), 'X'))"
   ]
  },
  {
   "cell_type": "code",
   "execution_count": 6,
   "id": "60d44340",
   "metadata": {},
   "outputs": [
    {
     "name": "stdout",
     "output_type": "stream",
     "text": [
      "Winner\n"
     ]
    }
   ],
   "source": [
    "def newboard(): return [['', '', ''],['', '', ''], ['','','']]\n",
    "\n",
    "board = newboard()\n",
    "\n",
    "board[0][1] = 'X'\n",
    "board[0][0] = 'X'\n",
    "board[0][2] = 'X'\n",
    "\n",
    "check(encode(flatten(board), 'X'))"
   ]
  },
  {
   "cell_type": "markdown",
   "id": "4e7ee9f4",
   "metadata": {},
   "source": [
    "# Idea 2: Summing Rows, Columns, and Diagonals (from scratch)\n",
    "- Board initialized with zeroes.\n",
    "- Board stores `1` for player 1 moves and `-1` for player 2 moves. A row, column, or diagonal that sums to 3 is a win for player 1, -3 a win for player 2.\n",
    "- To simpllify checking, check only rows and diagonal and then transpose matrix and recheck\n",
    "- One advantage is that it should make it easier to handle NxN games of tic-tac-toe"
   ]
  },
  {
   "cell_type": "code",
   "execution_count": 7,
   "id": "1fa82583",
   "metadata": {},
   "outputs": [
    {
     "data": {
      "text/plain": [
       "[[1, -1, 0], [0, 0, 1], [-1, -1, 1]]"
      ]
     },
     "execution_count": 7,
     "metadata": {},
     "output_type": "execute_result"
    }
   ],
   "source": [
    "board = [[1, -1, 0], [0, 0, 1], [-1, -1, 1]]\n",
    "board"
   ]
  },
  {
   "cell_type": "code",
   "execution_count": 8,
   "id": "2291408f",
   "metadata": {},
   "outputs": [
    {
     "name": "stdout",
     "output_type": "stream",
     "text": [
      "Rows: [0, 1, -1]\n",
      "Diagonal: 2\n"
     ]
    }
   ],
   "source": [
    "def sumrows(board):\n",
    "    rowresults = []\n",
    "    for row in board:\n",
    "        result = 0\n",
    "        for col in row:\n",
    "            result += col\n",
    "        rowresults.append(result)\n",
    "    return rowresults\n",
    "\n",
    "def sumdiag(board):\n",
    "    n = len(board)\n",
    "    result = 0\n",
    "    for i in range(n):\n",
    "        result += board[i][i]\n",
    "    return result\n",
    "\n",
    "print('Rows: {}'.format(sumrows(board)))\n",
    "print('Diagonal: {}'.format(sumdiag(board)))"
   ]
  },
  {
   "cell_type": "code",
   "execution_count": 9,
   "id": "fe04cc84",
   "metadata": {},
   "outputs": [],
   "source": [
    "def transpose(board):\n",
    "    newboard = [['','',''],['','',''],['','','']]\n",
    "    for row in range(len(board)):\n",
    "        for col in range(len(board[row])):\n",
    "            newboard[row][col] = board[col][row]\n",
    "    return newboard\n",
    "\n",
    "def reverse_row_inplace(row):\n",
    "    l = 0\n",
    "    r = len(a) - 1\n",
    "    while l < r:\n",
    "        row[l], row[r] = row[r], row[l]\n",
    "        l += 1\n",
    "        r -= 1\n",
    "    return row\n",
    "\n",
    "def reverse_row(row):\n",
    "    newrow = []\n",
    "    i = len(row) - 1\n",
    "    while i >= 0:\n",
    "        newrow.append(row[i])\n",
    "        i -= 1\n",
    "    return newrow\n",
    "\n",
    "def mirror(board):\n",
    "    newboard = []\n",
    "    for row in board:\n",
    "        newboard.append(reverse_row(row))\n",
    "    return newboard\n",
    "\n",
    "def rotate90(board):\n",
    "    return transpose(mirror(board))"
   ]
  },
  {
   "cell_type": "code",
   "execution_count": 10,
   "id": "94382916",
   "metadata": {},
   "outputs": [
    {
     "name": "stdout",
     "output_type": "stream",
     "text": [
      "Columns: [2, -2, 0]\n",
      "Reverse Diagonal: -1\n"
     ]
    }
   ],
   "source": [
    "print('Columns: {}'.format(sumrows(rotate90(board))))\n",
    "print('Reverse Diagonal: {}'.format(sumdiag(rotate90(board))))"
   ]
  },
  {
   "cell_type": "markdown",
   "id": "1940b884",
   "metadata": {},
   "source": [
    "# Idea 3: Same as Above, but with NumPy"
   ]
  },
  {
   "cell_type": "code",
   "execution_count": 11,
   "id": "d1248489",
   "metadata": {},
   "outputs": [],
   "source": [
    "import numpy as np"
   ]
  },
  {
   "cell_type": "code",
   "execution_count": 12,
   "id": "4dba4109",
   "metadata": {},
   "outputs": [
    {
     "data": {
      "text/plain": [
       "array([[ 1, -1,  0],\n",
       "       [ 0,  0,  1],\n",
       "       [-1, -1,  1]])"
      ]
     },
     "execution_count": 12,
     "metadata": {},
     "output_type": "execute_result"
    }
   ],
   "source": [
    "board = np.array([[1, -1, 0], [0, 0, 1], [-1, -1, 1]])\n",
    "board"
   ]
  },
  {
   "cell_type": "code",
   "execution_count": 13,
   "id": "e3a826ee",
   "metadata": {},
   "outputs": [
    {
     "data": {
      "text/plain": [
       "2"
      ]
     },
     "execution_count": 13,
     "metadata": {},
     "output_type": "execute_result"
    }
   ],
   "source": [
    "# Sum diagonal\n",
    "board.diagonal().sum()"
   ]
  },
  {
   "cell_type": "code",
   "execution_count": 14,
   "id": "e4bcfd56",
   "metadata": {},
   "outputs": [
    {
     "data": {
      "text/plain": [
       "array([ 0,  1, -1])"
      ]
     },
     "execution_count": 14,
     "metadata": {},
     "output_type": "execute_result"
    }
   ],
   "source": [
    "# Sum rows\n",
    "board.sum(axis=1)"
   ]
  },
  {
   "cell_type": "code",
   "execution_count": 15,
   "id": "97a87dc1",
   "metadata": {},
   "outputs": [
    {
     "data": {
      "text/plain": [
       "array([ 0, -2,  2])"
      ]
     },
     "execution_count": 15,
     "metadata": {},
     "output_type": "execute_result"
    }
   ],
   "source": [
    "# Sum cols\n",
    "board.sum(axis=0)"
   ]
  },
  {
   "cell_type": "code",
   "execution_count": 16,
   "id": "0976eaf1",
   "metadata": {},
   "outputs": [
    {
     "data": {
      "text/plain": [
       "-1"
      ]
     },
     "execution_count": 16,
     "metadata": {},
     "output_type": "execute_result"
    }
   ],
   "source": [
    "# Sum anti-diagonal\n",
    "np.fliplr(board).diagonal().sum()"
   ]
  },
  {
   "cell_type": "code",
   "execution_count": null,
   "id": "4c02efe1",
   "metadata": {},
   "outputs": [],
   "source": []
  }
 ],
 "metadata": {
  "kernelspec": {
   "display_name": "Python 3 (ipykernel)",
   "language": "python",
   "name": "python3"
  },
  "language_info": {
   "codemirror_mode": {
    "name": "ipython",
    "version": 3
   },
   "file_extension": ".py",
   "mimetype": "text/x-python",
   "name": "python",
   "nbconvert_exporter": "python",
   "pygments_lexer": "ipython3",
   "version": "3.10.6"
  }
 },
 "nbformat": 4,
 "nbformat_minor": 5
}
